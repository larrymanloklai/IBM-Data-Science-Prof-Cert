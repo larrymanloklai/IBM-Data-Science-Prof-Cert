{
    "cells": [
        {
            "cell_type": "markdown",
            "metadata": {
                "collapsed": true
            },
            "source": "# Opening a new coffee shop in the City of Sydney, Australia"
        },
        {
            "cell_type": "markdown",
            "metadata": {},
            "source": "##  Introduction/Business Problem"
        },
        {
            "cell_type": "markdown",
            "metadata": {},
            "source": "Opening a coffee shops in the City of Sydney is a challenging and also potentially rewarding journey. Have you heard that Sydney is one of the cities with the best coffee? Personally I agree (Melbourne's and Aucklands are also good). It is a competitive business environment that customers are not only choosing the best cup of coffee, but also in a covenient location, and not to mention a good customer service as the basic of everything. This is a preliminary analysis for skilled coffee shop owners looking into expanding their business to the City of Syndey."
        },
        {
            "cell_type": "markdown",
            "metadata": {},
            "source": "## Overview of how data will be collected and examined"
        },
        {
            "cell_type": "markdown",
            "metadata": {},
            "source": "First the locations, coordinates, and rating of all the coffee shops in the City of Sydney will be gathered via API from Foursquare (https://developer.foursquare.com/). Then the locations of these coffee shops will be split into 10 areas (village groups) as per the geojson file from the City of Sydney LGA (local government areas https://data.cityofsydney.nsw.gov.au/). With the total area and total employmnet data in each village known from the same data source, the number of coffee shop per employment ratio will be ploted in order to visually narrow down potential villages.\n\nTo leverage the data from Foursquare, location of train stations and bus stops will aslo be identified to estimate area with the best pedestrian traffic towards the potential villages. The ratings of exisitng coffee shops will be used as a guide to identify any final recommendation."
        },
        {
            "cell_type": "markdown",
            "metadata": {},
            "source": "## Step by step plan on data collection and manipulation"
        },
        {
            "cell_type": "markdown",
            "metadata": {},
            "source": "1) Gather coffee shops data from Foursquare, using search end point, with limit and Query input (Applied Data Science Capstone, week 2).\n2) Clean up data to a datafram that contains name of venue, unique ID, coordinates, and category (Applied Data Science Capstone, week 2)\n3) Gather geojson data from API or a file from cityofsydney website, and display it using Folium (Data Visualization with Python, week 3).\n4) Allocate coffee shops to each of the Village (Point in Polygon, online self study).\n5) Count number of coffee shops in each Village. Gather number of employment and resident population in each village.\n6) Examine data visually and decide what kind of regression can best describe the relationship by using employment and resident population to predict number of coffee shop in each Village.\n7) Identify Villages (1-3) with coffee shops less than the predicted value as per the regression.\n8) Ultilise premium call to get the average ratings of the coffee shops in these Village(s).\n9) Find out which village has coffee shops with the least average ratings.\n10) Additional findings on data.\n11) The preliminary study will be concluded."
        },
        {
            "cell_type": "code",
            "execution_count": null,
            "metadata": {},
            "outputs": [],
            "source": ""
        }
    ],
    "metadata": {
        "kernelspec": {
            "display_name": "Python 3.6",
            "language": "python",
            "name": "python3"
        },
        "language_info": {
            "codemirror_mode": {
                "name": "ipython",
                "version": 3
            },
            "file_extension": ".py",
            "mimetype": "text/x-python",
            "name": "python",
            "nbconvert_exporter": "python",
            "pygments_lexer": "ipython3",
            "version": "3.6.9"
        }
    },
    "nbformat": 4,
    "nbformat_minor": 1
}